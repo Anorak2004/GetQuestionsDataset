{
 "cells": [
  {
   "cell_type": "code",
   "id": "initial_id",
   "metadata": {
    "collapsed": true,
    "ExecuteTime": {
     "end_time": "2024-11-18T15:37:02.723348Z",
     "start_time": "2024-11-18T15:37:02.715229Z"
    }
   },
   "source": [
    "html_content = '''\n",
    "<h2 class=\"title\">\n",
    "\t\t\t第 1 题\n",
    "\t\t\t<a class=\"badge pull-right favor\" data-questionid=\"81227\">收藏</a>\n",
    "\t\t\t<a class=\"badge pull-right error\" data-questionid=\"81227\">纠错</a>\n",
    "            \t\t\t<a class=\"jump next badge pull-right\" data-number=\"2\">下一题</a>\n",
    "\t\t\t            \t\t</h2>\n",
    "\t\t<ul class=\"list-unstyled list-img\">\n",
    "\t\t\t\t\t\t<li class=\"border morepadding\">\n",
    "\t\t\t\t<div class=\"desc\">\n",
    "\t\t\t\t\t<p>1.选择血液检查项目的原则是：</p>\n",
    "\t\t\t\t</div>\n",
    "\t\t\t</li>\n",
    "\t\t\t\t\t\t<li class=\"border morepadding\">\n",
    "\t\t\t\t<div class=\"desc\">\n",
    "\t\t\t\t\t<p><p>A.以高、难、新、尖项目为宜</p><p>B.项目越多越好</p><p>C.在询问病史和体格检查之后</p><p>D.根据主诉</p><p>E.价格低廉</p></p>\n",
    "\t\t\t\t</div>\n",
    "\t\t\t</li>\n",
    "\t\t\t            \t\t\t<li class=\"border morepadding\">\n",
    "\t\t\t\t<form class=\"nopadding desc\">\n",
    "\t\t\t\t\t\t\t\t\t\t\t\t\t\t\t\t\t\t\t\t<label class=\"inline\"><input type=\"radio\" name=\"question[81227]\" rel=\"81227\" value=\"A\" /><span class=\"selector\">A</span> </label>\n",
    "\t\t\t\t\t\t\t\t\t\t\t\t\t\t\t<label class=\"inline\"><input type=\"radio\" name=\"question[81227]\" rel=\"81227\" value=\"B\" /><span class=\"selector\">B</span> </label>\n",
    "\t\t\t\t\t\t\t\t\t\t\t\t\t\t\t<label class=\"inline\"><input type=\"radio\" name=\"question[81227]\" rel=\"81227\" value=\"C\" /><span class=\"selector\">C</span> </label>\n",
    "\t\t\t\t\t\t\t\t\t\t\t\t\t\t\t<label class=\"inline\"><input type=\"radio\" name=\"question[81227]\" rel=\"81227\" value=\"D\" /><span class=\"selector\">D</span> </label>\n",
    "\t\t\t\t\t\t\t\t\t\t\t\t\t\t\t<label class=\"inline\"><input type=\"radio\" name=\"question[81227]\" rel=\"81227\" value=\"E\" /><span class=\"selector\">E</span> </label>\n",
    "\t\t\t\t\t\t\t\t\t\t\t\t\t\t\t\t\t\t\t\t\t\t\t\t</form>\n",
    "\t\t\t</li>\n",
    "\t\t\t\t\t\t<li class=\"border morepadding rightanswer hide\">\n",
    "\t\t\t\t<div class=\"intro\">\n",
    "\t\t\t\t\t<div class=\"desc\">\n",
    "\t\t\t\t\t\t<div class=\"col-xs-1 nopadding\">\n",
    "\t\t\t\t\t\t\t<div class=\"toolbar\"><span class=\"badge\">正确答案</span></div>\n",
    "\t\t\t\t\t\t</div>\n",
    "                        \t\t\t\t\t\t<div class=\"col-xs-11\">\n",
    "\t\t\t\t\t\t\t<b id=\"rightanswer_81227\">C</b>\n",
    "\t\t\t\t\t\t</div>\n",
    "\t\t\t\t\t\t\t\t\t\t\t</div>\n",
    "\t\t\t\t</div>\n",
    "\t\t\t</li>\n",
    "\t\t\t<li class=\"border morepadding rightanswer hide\">\n",
    "\t\t\t\t<div class=\"intro\">\n",
    "\t\t\t\t\t<div class=\"desc\">\n",
    "\t\t\t\t\t\t<div class=\"col-xs-1 nopadding\">\n",
    "\t\t\t\t\t\t\t<div class=\"toolbar\"><span class=\"badge\">试题解析</span></div>\n",
    "\t\t\t\t\t\t</div>\n",
    "\t\t\t\t\t\t<div class=\"col-xs-11\">\n",
    "\t\t\t\t\t\t\t暂无解析\t\t\t\t\t\t</div>\n",
    "\t\t\t\t\t</div>\n",
    "\t\t\t\t</div>\n",
    "\t\t\t</li>\n",
    "\t\t\t<li class=\"border padding\">\n",
    "\t\t\t\t<div class=\"intro text-right\">\n",
    "\t\t\t\t\t<div class=\"desc\">\n",
    "\t\t\t\t\t\t<form class=\"toolbar\" target=\"questionpanel\" action=\"index.php?exam-app-lesson-ajax-questions&knowsid=177\">\n",
    "\t\t\t\t\t\t\t共 6 题，当前第 1 题。\n",
    "\t\t\t\t\t\t\t<span class=\"form-inline form-group\">\n",
    "\t\t\t\t\t\t\t\t去第 <input type=\"search\" size=\"1\" class=\"form-control text-center\" name=\"number\" placeholder=\"1\"> 题\n",
    "\t\t\t\t\t\t\t</span>\n",
    "\t\t\t\t\t\t</form>\n",
    "\t\t\t\t\t</div>\n",
    "\t\t\t\t</div>\n",
    "\t\t\t</li>\n",
    "\t\t</ul>\n",
    "\t\t<script type=\"text/javascript\">\n",
    "\t\t$(function(){\n",
    "\t\t\tvar sumquestion = function(value,qid){\n",
    "                $('.rightanswer').removeClass('hide');\n",
    "                if(value == $(\"#rightanswer_\"+qid).html())\n",
    "                {\n",
    "                    $.zoombox.show('ajaxOK',{message:'回答正确'});\n",
    "                    $(\"#rightanswer_\"+qid).attr('class','text-success');\n",
    "                }\n",
    "                else\n",
    "                {\n",
    "                    $.zoombox.show('ajax',{message:'回答错误'});\n",
    "                    $(\"#rightanswer_\"+qid).attr('class','text-danger');\n",
    "                }\n",
    "                setTimeout($.zoombox.hide,1000);\n",
    "            }\n",
    "            $(\"input:radio\").click(function(){\n",
    "                var _this = $(this);\n",
    "                var qid = _this.attr('rel');\n",
    "                sumquestion(_this.val(),qid);\n",
    "\t\t\t});\n",
    "\t\t\t$(\".finish\").click(function(){\n",
    "                var _this = $(this);\n",
    "                var qid = _this.attr('rel');\n",
    "                var parent = _this.parents(\"form:first\");\n",
    "                var value = '';\n",
    "                if(_this.hasClass('fill')){\n",
    "                    value = parent.find(\"input\").val();\n",
    "\t\t\t\t}\n",
    "\t\t\t\telse{\n",
    "\t\t\t\t\tparent.find(\"input:checked\").each(function(){\n",
    "\t\t\t\t\t\tvalue += $(this).val().toUpperCase();\n",
    "\t\t\t\t\t});\n",
    "                }\n",
    "                if(value == '')\n",
    "\t\t\t\t{\n",
    "                    $.zoombox.show('ajax',{message:'请先答题'});\n",
    "                    return;\n",
    "\t\t\t\t}\n",
    "                sumquestion(value,qid);\n",
    "\t\t\t});\n",
    "\t\t});\n",
    "\n",
    "\t\t</script>\n",
    "'''"
   ],
   "outputs": [],
   "execution_count": 1
  },
  {
   "metadata": {
    "ExecuteTime": {
     "end_time": "2024-11-18T15:37:05.221185Z",
     "start_time": "2024-11-18T15:37:05.074064Z"
    }
   },
   "cell_type": "code",
   "source": [
    "from bs4 import BeautifulSoup\n",
    "\n",
    "\n",
    "# 解析HTML\n",
    "soup = BeautifulSoup(html_content, 'html.parser')"
   ],
   "id": "e5c00bf53b8c4c8e",
   "outputs": [],
   "execution_count": 2
  },
  {
   "metadata": {
    "ExecuteTime": {
     "end_time": "2024-11-18T15:37:06.041038Z",
     "start_time": "2024-11-18T15:37:06.037688Z"
    }
   },
   "cell_type": "code",
   "source": "output = soup.find_all('div', class_='desc')",
   "id": "6cc8ee7f53d04d54",
   "outputs": [],
   "execution_count": 3
  },
  {
   "metadata": {
    "ExecuteTime": {
     "end_time": "2024-11-18T15:37:07.400712Z",
     "start_time": "2024-11-18T15:37:07.393591Z"
    }
   },
   "cell_type": "code",
   "source": "output",
   "id": "c2b1f3c97d8fd1d5",
   "outputs": [
    {
     "data": {
      "text/plain": [
       "[<div class=\"desc\">\n",
       " <p>1.选择血液检查项目的原则是：</p>\n",
       " </div>,\n",
       " <div class=\"desc\">\n",
       " <p><p>A.以高、难、新、尖项目为宜</p><p>B.项目越多越好</p><p>C.在询问病史和体格检查之后</p><p>D.根据主诉</p><p>E.价格低廉</p></p>\n",
       " </div>,\n",
       " <div class=\"desc\">\n",
       " <div class=\"col-xs-1 nopadding\">\n",
       " <div class=\"toolbar\"><span class=\"badge\">正确答案</span></div>\n",
       " </div>\n",
       " <div class=\"col-xs-11\">\n",
       " <b id=\"rightanswer_81227\">C</b>\n",
       " </div>\n",
       " </div>,\n",
       " <div class=\"desc\">\n",
       " <div class=\"col-xs-1 nopadding\">\n",
       " <div class=\"toolbar\"><span class=\"badge\">试题解析</span></div>\n",
       " </div>\n",
       " <div class=\"col-xs-11\">\n",
       " \t\t\t\t\t\t\t暂无解析\t\t\t\t\t\t</div>\n",
       " </div>,\n",
       " <div class=\"desc\">\n",
       " <form action=\"index.php?exam-app-lesson-ajax-questions&amp;knowsid=177\" class=\"toolbar\" target=\"questionpanel\">\n",
       " \t\t\t\t\t\t\t共 6 题，当前第 1 题。\n",
       " \t\t\t\t\t\t\t<span class=\"form-inline form-group\">\n",
       " \t\t\t\t\t\t\t\t去第 <input class=\"form-control text-center\" name=\"number\" placeholder=\"1\" size=\"1\" type=\"search\"/> 题\n",
       " \t\t\t\t\t\t\t</span>\n",
       " </form>\n",
       " </div>]"
      ]
     },
     "execution_count": 4,
     "metadata": {},
     "output_type": "execute_result"
    }
   ],
   "execution_count": 4
  },
  {
   "metadata": {
    "ExecuteTime": {
     "end_time": "2024-11-18T14:25:32.683666Z",
     "start_time": "2024-11-18T14:25:32.674486Z"
    }
   },
   "cell_type": "code",
   "source": [
    "from bs4 import BeautifulSoup\n",
    "\n",
    "# 示例HTML内容\n",
    "\n",
    "# 解析HTML\n",
    "soup = BeautifulSoup(html_content, 'html.parser')\n",
    "\n",
    "# 提取所有 class='desc' 的 div 标签\n",
    "desc_divs = soup.find_all('div', class_='desc')\n",
    "\n",
    "# 提取题目描述\n",
    "question_text = desc_divs[0].get_text(strip=True) if len(desc_divs) > 0 else None\n",
    "print(\"题目内容:\", question_text)\n",
    "\n",
    "# 提取选项内容\n",
    "options = []\n",
    "if len(desc_divs) > 1:\n",
    "    options_div = desc_divs[1]\n",
    "    for option in options_div.find_all('p'):\n",
    "        # print(option)\n",
    "        options.append(option.get_text(strip=True))\n",
    "final_options = options[1:]\n",
    "print(\"选项内容:\", final_options)\n",
    "\n",
    "# 提取正确答案\n",
    "correct_answer = None\n",
    "for div in desc_divs:\n",
    "    if \"正确答案\" in div.get_text():  # 查找包含“正确答案”的div\n",
    "        correct_answer = div.find('b').get_text(strip=True)\n",
    "print(\"正确答案:\", correct_answer)\n",
    "\n",
    "# 提取解析内容\n",
    "analysis = None\n",
    "for div in desc_divs:\n",
    "    if \"试题解析\" in div.get_text():  # 查找包含“试题解析”的div\n",
    "        analysis = div.find('div', class_='col-xs-11').get_text(strip=True)\n",
    "print(\"试题解析:\", analysis)\n"
   ],
   "id": "99779925d9b82cb3",
   "outputs": [
    {
     "name": "stdout",
     "output_type": "stream",
     "text": [
      "题目内容: 1.选择血液检查项目的原则是：\n",
      "选项内容: ['A.以高、难、新、尖项目为宜', 'B.项目越多越好', 'C.在询问病史和体格检查之后', 'D.根据主诉', 'E.价格低廉']\n",
      "正确答案: C\n",
      "试题解析: 暂无解析\n"
     ]
    }
   ],
   "execution_count": 27
  },
  {
   "metadata": {
    "ExecuteTime": {
     "end_time": "2024-11-18T14:25:24.986264Z",
     "start_time": "2024-11-18T14:25:24.981552Z"
    }
   },
   "cell_type": "code",
   "source": "options[1:]",
   "id": "70b616945c818d0",
   "outputs": [
    {
     "data": {
      "text/plain": [
       "['A.以高、难、新、尖项目为宜', 'B.项目越多越好', 'C.在询问病史和体格检查之后', 'D.根据主诉', 'E.价格低廉']"
      ]
     },
     "execution_count": 26,
     "metadata": {},
     "output_type": "execute_result"
    }
   ],
   "execution_count": 26
  },
  {
   "metadata": {
    "ExecuteTime": {
     "end_time": "2024-11-18T14:50:20.241930Z",
     "start_time": "2024-11-18T14:50:20.230316Z"
    }
   },
   "cell_type": "code",
   "source": [
    "# 解析HTML\n",
    "soup = BeautifulSoup(html_content, 'html.parser')\n",
    "\n",
    "# 提取所有 class='desc' 的 div 标签\n",
    "desc_divs = soup.find_all('div', class_='desc')\n",
    "\n",
    "# 提取题目描述\n",
    "question_text = desc_divs[0].get_text(strip=True) if len(desc_divs) > 0 else None\n",
    "print(\"题目内容:\", question_text)\n",
    "\n",
    "# 提取选项内容\n",
    "options = []\n",
    "if len(desc_divs) > 1:\n",
    "    options_div = desc_divs[1]\n",
    "    for option in options_div.find_all('p'):\n",
    "        options.append(option.get_text(strip=True))\n",
    "# 过滤掉第一个选项内容（如“1.选择血液检查项目的原则是：”）\n",
    "final_options = options[1:]\n",
    "print(\"选项内容:\", final_options)\n",
    "\n",
    "# 提取正确答案\n",
    "correct_answer = None\n",
    "for div in desc_divs:\n",
    "    if \"正确答案\" in div.get_text():  # 查找包含“正确答案”的div\n",
    "        correct_answer = div.find('b').get_text(strip=True)\n",
    "print(\"正确答案:\", correct_answer)\n",
    "\n",
    "# 提取解析内容\n",
    "analysis = None\n",
    "for div in desc_divs:\n",
    "    if \"试题解析\" in div.get_text():  # 查找包含“试题解析”的div\n",
    "        analysis = div.find('div', class_='col-xs-11').get_text(strip=True)\n",
    "print(\"试题解析:\", analysis)"
   ],
   "id": "31a2c61a023ab609",
   "outputs": [
    {
     "name": "stdout",
     "output_type": "stream",
     "text": [
      "题目内容: 1.选择血液检查项目的原则是：\n",
      "选项内容: ['A.以高、难、新、尖项目为宜', 'B.项目越多越好', 'C.在询问病史和体格检查之后', 'D.根据主诉', 'E.价格低廉']\n",
      "正确答案: C\n",
      "试题解析: 暂无解析\n"
     ]
    }
   ],
   "execution_count": 28
  },
  {
   "metadata": {
    "ExecuteTime": {
     "end_time": "2024-11-18T15:39:31.053390Z",
     "start_time": "2024-11-18T15:39:31.049148Z"
    }
   },
   "cell_type": "code",
   "source": "desc_divs = output",
   "id": "e794df2d8aa48f80",
   "outputs": [],
   "execution_count": 6
  },
  {
   "metadata": {
    "ExecuteTime": {
     "end_time": "2024-11-18T15:40:59.822781Z",
     "start_time": "2024-11-18T15:40:59.818550Z"
    }
   },
   "cell_type": "code",
   "source": [
    "import re\n",
    "\n",
    "html_content = ' '.join([div.get_text() for div in desc_divs])\n",
    "\n",
    "# 使用正则表达式提取“共 X 题”中的数字 X\n",
    "match = re.search(r'共\\s*(\\d+)\\s*题', html_content)\n",
    "\n",
    "# 如果匹配成功，提取题目总数\n",
    "if match:\n",
    "    total_questions = match.group(1)  # 提取数字部分\n",
    "    print(\"共多少题:\", total_questions)\n",
    "else:\n",
    "    print(\"未找到题目总数\")"
   ],
   "id": "e992aec4f1e164e5",
   "outputs": [
    {
     "name": "stdout",
     "output_type": "stream",
     "text": [
      "共多少题: 6\n"
     ]
    }
   ],
   "execution_count": 9
  },
  {
   "metadata": {
    "ExecuteTime": {
     "end_time": "2024-11-18T15:39:53.183970Z",
     "start_time": "2024-11-18T15:39:53.177604Z"
    }
   },
   "cell_type": "code",
   "source": "desc_divs",
   "id": "61d05b8d366d1163",
   "outputs": [
    {
     "data": {
      "text/plain": [
       "[<div class=\"desc\">\n",
       " <p>1.选择血液检查项目的原则是：</p>\n",
       " </div>,\n",
       " <div class=\"desc\">\n",
       " <p><p>A.以高、难、新、尖项目为宜</p><p>B.项目越多越好</p><p>C.在询问病史和体格检查之后</p><p>D.根据主诉</p><p>E.价格低廉</p></p>\n",
       " </div>,\n",
       " <div class=\"desc\">\n",
       " <div class=\"col-xs-1 nopadding\">\n",
       " <div class=\"toolbar\"><span class=\"badge\">正确答案</span></div>\n",
       " </div>\n",
       " <div class=\"col-xs-11\">\n",
       " <b id=\"rightanswer_81227\">C</b>\n",
       " </div>\n",
       " </div>,\n",
       " <div class=\"desc\">\n",
       " <div class=\"col-xs-1 nopadding\">\n",
       " <div class=\"toolbar\"><span class=\"badge\">试题解析</span></div>\n",
       " </div>\n",
       " <div class=\"col-xs-11\">\n",
       " \t\t\t\t\t\t\t暂无解析\t\t\t\t\t\t</div>\n",
       " </div>,\n",
       " <div class=\"desc\">\n",
       " <form action=\"index.php?exam-app-lesson-ajax-questions&amp;knowsid=177\" class=\"toolbar\" target=\"questionpanel\">\n",
       " \t\t\t\t\t\t\t共 6 题，当前第 1 题。\n",
       " \t\t\t\t\t\t\t<span class=\"form-inline form-group\">\n",
       " \t\t\t\t\t\t\t\t去第 <input class=\"form-control text-center\" name=\"number\" placeholder=\"1\" size=\"1\" type=\"search\"/> 题\n",
       " \t\t\t\t\t\t\t</span>\n",
       " </form>\n",
       " </div>]"
      ]
     },
     "execution_count": 8,
     "metadata": {},
     "output_type": "execute_result"
    }
   ],
   "execution_count": 8
  },
  {
   "metadata": {},
   "cell_type": "code",
   "outputs": [],
   "execution_count": null,
   "source": "",
   "id": "373fdf1bdc52cdc"
  }
 ],
 "metadata": {
  "kernelspec": {
   "display_name": "Python 3",
   "language": "python",
   "name": "python3"
  },
  "language_info": {
   "codemirror_mode": {
    "name": "ipython",
    "version": 2
   },
   "file_extension": ".py",
   "mimetype": "text/x-python",
   "name": "python",
   "nbconvert_exporter": "python",
   "pygments_lexer": "ipython2",
   "version": "2.7.6"
  }
 },
 "nbformat": 4,
 "nbformat_minor": 5
}
